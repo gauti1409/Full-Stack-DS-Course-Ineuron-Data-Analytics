{
 "cells": [
  {
   "cell_type": "markdown",
   "metadata": {},
   "source": [
    "## SQL Assignment 10"
   ]
  },
  {
   "cell_type": "markdown",
   "metadata": {},
   "source": [
    "### Importing the libraries"
   ]
  },
  {
   "cell_type": "code",
   "execution_count": 1,
   "metadata": {},
   "outputs": [],
   "source": [
    "import mysql.connector\n",
    "import logging\n",
    "import csv\n",
    "logging.basicConfig(level=logging.INFO, format=\" %(asctime)s : %(levelname)s : %(message)s\")"
   ]
  },
  {
   "cell_type": "markdown",
   "metadata": {},
   "source": [
    "### Create a MySQL Connection"
   ]
  },
  {
   "cell_type": "code",
   "execution_count": 2,
   "metadata": {},
   "outputs": [
    {
     "name": "stderr",
     "output_type": "stream",
     "text": [
      " 2021-05-31 00:09:33,876 : INFO : Connection to MySQL DB successful\n"
     ]
    }
   ],
   "source": [
    "def create_connection (host_name, user_name, password, db_name, use_pure):\n",
    "    \n",
    "    connection = None\n",
    "    \n",
    "    try:\n",
    "        connection = mysql.connector.connect (\n",
    "            host = host_name,\n",
    "            user = user_name,\n",
    "            password = password,\n",
    "            database = db_name,\n",
    "            use_pure = use_pure\n",
    "        )\n",
    "        logging.info(\"Connection to MySQL DB successful\")\n",
    "        \n",
    "    except Exception as e:\n",
    "        logging.error(f\"The error {e} has occurred !!\")\n",
    "        \n",
    "    return connection\n",
    "        \n",
    "connection = create_connection(host_name = \"localhost\", user_name = \"root\", password = \"pass1234\", db_name = \"org\", use_pure = True)  "
   ]
  },
  {
   "cell_type": "markdown",
   "metadata": {},
   "source": [
    "### Making a function for executing a query"
   ]
  },
  {
   "cell_type": "code",
   "execution_count": 3,
   "metadata": {},
   "outputs": [],
   "source": [
    "def execute_query(connection, query):\n",
    "    \n",
    "    cursor = connection.cursor()\n",
    "    \n",
    "    try:\n",
    "        cursor.execute(query)\n",
    "        connection.commit()\n",
    "        logging.info(\"The query has been executed successfully !!!\")\n",
    "        \n",
    "    except Exception as e:\n",
    "        logging.error(f\"The error {e} has occurred !!\") "
   ]
  },
  {
   "cell_type": "markdown",
   "metadata": {},
   "source": [
    "### Making a function for fetching the results from a query"
   ]
  },
  {
   "cell_type": "code",
   "execution_count": 4,
   "metadata": {},
   "outputs": [],
   "source": [
    "def fetch_query(connection, query):\n",
    "    \n",
    "    cursor = connection.cursor()\n",
    "    result = None\n",
    "    \n",
    "    try:\n",
    "        cursor.execute(query)\n",
    "        result = cursor.fetchall()\n",
    "        return result\n",
    "    \n",
    "    except Exception as e:\n",
    "        logging.error(f\"The error {e} has occurred !!\")"
   ]
  },
  {
   "cell_type": "markdown",
   "metadata": {},
   "source": [
    "Q-19. Write an SQL query to determine the 5th highest salary without using TOP or limit method."
   ]
  },
  {
   "cell_type": "code",
   "execution_count": 5,
   "metadata": {},
   "outputs": [],
   "source": [
    "query_1 = ''' SELECT salary FROM worker as w1 WHERE 5-1 = (SELECT COUNT(DISTINCT salary) FROM WORKER as w2\n",
    "              WHERE w2.salary > w1.salary); '''\n",
    "query_1_result = fetch_query(connection, query_1)"
   ]
  },
  {
   "cell_type": "code",
   "execution_count": 6,
   "metadata": {},
   "outputs": [
    {
     "data": {
      "text/plain": [
       "[(90000,)]"
      ]
     },
     "execution_count": 6,
     "metadata": {},
     "output_type": "execute_result"
    }
   ],
   "source": [
    "query_1_result"
   ]
  },
  {
   "cell_type": "markdown",
   "metadata": {},
   "source": [
    "Q-20. Write an SQL query to fetch the list of employees with the same salary."
   ]
  },
  {
   "cell_type": "code",
   "execution_count": 7,
   "metadata": {},
   "outputs": [],
   "source": [
    "query_2 = ''' Select distinct W1.WORKER_ID, W1.FIRST_NAME, W1.Salary  from Worker W1, Worker W2 where W1.Salary = W2.Salary \n",
    "              and W1.WORKER_ID != W2.WORKER_ID; '''\n",
    "query_2_result = fetch_query(connection, query_2)"
   ]
  },
  {
   "cell_type": "code",
   "execution_count": 8,
   "metadata": {},
   "outputs": [
    {
     "data": {
      "text/plain": [
       "[(5, 'Vivek', 500000), (4, 'Amitabh', 500000)]"
      ]
     },
     "execution_count": 8,
     "metadata": {},
     "output_type": "execute_result"
    }
   ],
   "source": [
    "query_2_result"
   ]
  },
  {
   "cell_type": "code",
   "execution_count": null,
   "metadata": {},
   "outputs": [],
   "source": []
  }
 ],
 "metadata": {
  "kernelspec": {
   "display_name": "Python 3",
   "language": "python",
   "name": "python3"
  },
  "language_info": {
   "codemirror_mode": {
    "name": "ipython",
    "version": 3
   },
   "file_extension": ".py",
   "mimetype": "text/x-python",
   "name": "python",
   "nbconvert_exporter": "python",
   "pygments_lexer": "ipython3",
   "version": "3.8.5"
  }
 },
 "nbformat": 4,
 "nbformat_minor": 4
}
