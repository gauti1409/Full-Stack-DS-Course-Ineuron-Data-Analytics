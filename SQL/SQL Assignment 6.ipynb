{
 "cells": [
  {
   "cell_type": "markdown",
   "metadata": {},
   "source": [
    "## SQL Assignment 6"
   ]
  },
  {
   "cell_type": "markdown",
   "metadata": {},
   "source": [
    "### Importing the libraries"
   ]
  },
  {
   "cell_type": "code",
   "execution_count": 1,
   "metadata": {},
   "outputs": [],
   "source": [
    "import mysql.connector\n",
    "import logging\n",
    "import csv\n",
    "logging.basicConfig(level=logging.INFO, format=\" %(asctime)s : %(levelname)s : %(message)s\")"
   ]
  },
  {
   "cell_type": "markdown",
   "metadata": {},
   "source": [
    "### Create a MySQL Connection"
   ]
  },
  {
   "cell_type": "code",
   "execution_count": 2,
   "metadata": {},
   "outputs": [
    {
     "name": "stderr",
     "output_type": "stream",
     "text": [
      " 2021-05-30 22:29:14,082 : INFO : Connection to MySQL DB successful\n"
     ]
    }
   ],
   "source": [
    "def create_connection (host_name, user_name, password, db_name, use_pure):\n",
    "    \n",
    "    connection = None\n",
    "    \n",
    "    try:\n",
    "        connection = mysql.connector.connect (\n",
    "            host = host_name,\n",
    "            user = user_name,\n",
    "            password = password,\n",
    "            database = db_name,\n",
    "            use_pure = use_pure\n",
    "        )\n",
    "        logging.info(\"Connection to MySQL DB successful\")\n",
    "        \n",
    "    except Exception as e:\n",
    "        logging.error(f\"The error {e} has occurred !!\")\n",
    "        \n",
    "    return connection\n",
    "        \n",
    "connection = create_connection(host_name = \"localhost\", user_name = \"root\", password = \"pass1234\", db_name = \"org\", use_pure = True)  "
   ]
  },
  {
   "cell_type": "markdown",
   "metadata": {},
   "source": [
    "### Making a function for executing a query"
   ]
  },
  {
   "cell_type": "code",
   "execution_count": 3,
   "metadata": {},
   "outputs": [],
   "source": [
    "def execute_query(connection, query):\n",
    "    \n",
    "    cursor = connection.cursor()\n",
    "    \n",
    "    try:\n",
    "        cursor.execute(query)\n",
    "        connection.commit()\n",
    "        logging.info(\"The query has been executed successfully !!!\")\n",
    "        \n",
    "    except Exception as e:\n",
    "        logging.error(f\"The error {e} has occurred !!\") "
   ]
  },
  {
   "cell_type": "markdown",
   "metadata": {},
   "source": [
    "### Making a function for fetching the results from a query"
   ]
  },
  {
   "cell_type": "code",
   "execution_count": 4,
   "metadata": {},
   "outputs": [],
   "source": [
    "def fetch_query(connection, query):\n",
    "    \n",
    "    cursor = connection.cursor()\n",
    "    result = None\n",
    "    \n",
    "    try:\n",
    "        cursor.execute(query)\n",
    "        result = cursor.fetchall()\n",
    "        return result\n",
    "    \n",
    "    except Exception as e:\n",
    "        logging.error(f\"The error {e} has occurred !!\")"
   ]
  },
  {
   "cell_type": "markdown",
   "metadata": {},
   "source": [
    "Q-1. Write an SQL query to print details of the Workers who have joined in Feb’2014."
   ]
  },
  {
   "cell_type": "code",
   "execution_count": 5,
   "metadata": {},
   "outputs": [],
   "source": [
    "query_1 = ''' Select * from Worker where year(JOINING_DATE) = 2014 and month(JOINING_DATE) = 2; '''\n",
    "query_1_result = fetch_query(connection, query_1)"
   ]
  },
  {
   "cell_type": "code",
   "execution_count": 6,
   "metadata": {},
   "outputs": [
    {
     "data": {
      "text/plain": [
       "[(1,\n",
       "  'Monika',\n",
       "  'Arora',\n",
       "  100000,\n",
       "  datetime.datetime(2014, 2, 20, 9, 0),\n",
       "  'HR',\n",
       "  'monika.arora@gmail.com'),\n",
       " (3,\n",
       "  'Vishal',\n",
       "  'Singhal',\n",
       "  300000,\n",
       "  datetime.datetime(2014, 2, 20, 9, 0),\n",
       "  'HR',\n",
       "  'vishal.singhal@gmail.com'),\n",
       " (4,\n",
       "  'Amitabh',\n",
       "  'Singh',\n",
       "  500000,\n",
       "  datetime.datetime(2014, 2, 20, 9, 0),\n",
       "  'Admin',\n",
       "  'amitabh.singh@gmail.com')]"
      ]
     },
     "execution_count": 6,
     "metadata": {},
     "output_type": "execute_result"
    }
   ],
   "source": [
    "query_1_result"
   ]
  },
  {
   "cell_type": "markdown",
   "metadata": {},
   "source": [
    "Q-2. Write an SQL query to fetch duplicate records having matching data in some fields of a table."
   ]
  },
  {
   "cell_type": "code",
   "execution_count": 7,
   "metadata": {},
   "outputs": [],
   "source": [
    "query_2 = ''' SELECT worker_title, affected_from, COUNT(*) FROM title GROUP BY worker_title, affected_from \n",
    "              HAVING COUNT(*) > 1; '''\n",
    "query_2_result = fetch_query(connection, query_2)"
   ]
  },
  {
   "cell_type": "code",
   "execution_count": 8,
   "metadata": {},
   "outputs": [
    {
     "data": {
      "text/plain": [
       "[('Executive', datetime.datetime(2016, 6, 11, 0, 0), 3),\n",
       " ('Lead', datetime.datetime(2016, 6, 11, 0, 0), 2)]"
      ]
     },
     "execution_count": 8,
     "metadata": {},
     "output_type": "execute_result"
    }
   ],
   "source": [
    "query_2_result"
   ]
  },
  {
   "cell_type": "markdown",
   "metadata": {},
   "source": [
    "Q-3. How to remove duplicate rows from Worker table."
   ]
  },
  {
   "cell_type": "code",
   "execution_count": 9,
   "metadata": {},
   "outputs": [],
   "source": [
    "query_3 = ''' DELETE t1 FROM TITLE t1 INNER JOIN TITLE t2 WHERE T1.WORKER_REF_ID < T2.WORKER_REF_ID AND \n",
    "              T1.WORKER_TITLE = T2.WORKER_TITLE AND T1.AFFECTED_FROM = T2.AFFECTED_FROM; '''"
   ]
  },
  {
   "cell_type": "code",
   "execution_count": 10,
   "metadata": {},
   "outputs": [
    {
     "data": {
      "text/plain": [
       "[]"
      ]
     },
     "execution_count": 10,
     "metadata": {},
     "output_type": "execute_result"
    }
   ],
   "source": [
    "query_3_result = fetch_query(connection, query_3)\n",
    "query_3_result"
   ]
  },
  {
   "cell_type": "code",
   "execution_count": null,
   "metadata": {},
   "outputs": [],
   "source": []
  }
 ],
 "metadata": {
  "kernelspec": {
   "display_name": "Python 3",
   "language": "python",
   "name": "python3"
  },
  "language_info": {
   "codemirror_mode": {
    "name": "ipython",
    "version": 3
   },
   "file_extension": ".py",
   "mimetype": "text/x-python",
   "name": "python",
   "nbconvert_exporter": "python",
   "pygments_lexer": "ipython3",
   "version": "3.8.5"
  }
 },
 "nbformat": 4,
 "nbformat_minor": 4
}
