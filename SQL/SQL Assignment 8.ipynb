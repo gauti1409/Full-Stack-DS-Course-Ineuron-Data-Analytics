{
 "cells": [
  {
   "cell_type": "markdown",
   "metadata": {},
   "source": [
    "## SQL Assignment 8"
   ]
  },
  {
   "cell_type": "markdown",
   "metadata": {},
   "source": [
    "### Importing the libraries"
   ]
  },
  {
   "cell_type": "code",
   "execution_count": 1,
   "metadata": {},
   "outputs": [],
   "source": [
    "import mysql.connector\n",
    "import logging\n",
    "import csv\n",
    "logging.basicConfig(level=logging.INFO, format=\" %(asctime)s : %(levelname)s : %(message)s\")"
   ]
  },
  {
   "cell_type": "markdown",
   "metadata": {},
   "source": [
    "### Create a MySQL Connection"
   ]
  },
  {
   "cell_type": "code",
   "execution_count": 11,
   "metadata": {},
   "outputs": [
    {
     "name": "stderr",
     "output_type": "stream",
     "text": [
      " 2021-05-30 23:58:49,416 : INFO : Connection to MySQL DB successful\n"
     ]
    }
   ],
   "source": [
    "def create_connection (host_name, user_name, password, db_name, use_pure):\n",
    "    \n",
    "    connection = None\n",
    "    \n",
    "    try:\n",
    "        connection = mysql.connector.connect (\n",
    "            host = host_name,\n",
    "            user = user_name,\n",
    "            password = password,\n",
    "            database = db_name,\n",
    "            use_pure = use_pure\n",
    "        )\n",
    "        logging.info(\"Connection to MySQL DB successful\")\n",
    "        \n",
    "    except Exception as e:\n",
    "        logging.error(f\"The error {e} has occurred !!\")\n",
    "        \n",
    "    return connection\n",
    "        \n",
    "connection = create_connection(host_name = \"localhost\", user_name = \"root\", password = \"pass1234\", db_name = \"org\", use_pure = True)  "
   ]
  },
  {
   "cell_type": "markdown",
   "metadata": {},
   "source": [
    "### Making a function for executing a query"
   ]
  },
  {
   "cell_type": "code",
   "execution_count": 12,
   "metadata": {},
   "outputs": [],
   "source": [
    "def execute_query(connection, query):\n",
    "    \n",
    "    cursor = connection.cursor()\n",
    "    \n",
    "    try:\n",
    "        cursor.execute(query)\n",
    "        connection.commit()\n",
    "        logging.info(\"The query has been executed successfully !!!\")\n",
    "        \n",
    "    except Exception as e:\n",
    "        logging.error(f\"The error {e} has occurred !!\") "
   ]
  },
  {
   "cell_type": "markdown",
   "metadata": {},
   "source": [
    "### Making a function for fetching the results from a query"
   ]
  },
  {
   "cell_type": "code",
   "execution_count": 13,
   "metadata": {},
   "outputs": [],
   "source": [
    "def fetch_query(connection, query):\n",
    "    \n",
    "    cursor = connection.cursor()\n",
    "    result = None\n",
    "    \n",
    "    try:\n",
    "        cursor.execute(query)\n",
    "        result = cursor.fetchall()\n",
    "        return result\n",
    "    \n",
    "    except Exception as e:\n",
    "        logging.error(f\"The error {e} has occurred !!\")"
   ]
  },
  {
   "cell_type": "markdown",
   "metadata": {},
   "source": [
    "Q-15. Write an SQL query to fetch intersecting records of two tables."
   ]
  },
  {
   "cell_type": "code",
   "execution_count": 7,
   "metadata": {},
   "outputs": [],
   "source": [
    "query_1 = ''' SELECT * FROM worker WHERE worker_id IN (SELECT worker_id FROM workerclone); '''\n",
    "query_1_result = fetch_query(connection, query_1)"
   ]
  },
  {
   "cell_type": "code",
   "execution_count": 8,
   "metadata": {},
   "outputs": [
    {
     "data": {
      "text/plain": [
       "[(1,\n",
       "  'Monika',\n",
       "  'Arora',\n",
       "  100000,\n",
       "  datetime.datetime(2014, 2, 20, 9, 0),\n",
       "  'HR',\n",
       "  'monika.arora@gmail.com'),\n",
       " (2,\n",
       "  'Niharika',\n",
       "  'Verma',\n",
       "  80000,\n",
       "  datetime.datetime(2014, 6, 11, 9, 0),\n",
       "  'Admin',\n",
       "  'niharika.verma@gmail.com'),\n",
       " (3,\n",
       "  'Vishal',\n",
       "  'Singhal',\n",
       "  300000,\n",
       "  datetime.datetime(2014, 2, 20, 9, 0),\n",
       "  'HR',\n",
       "  'vishal.singhal@gmail.com'),\n",
       " (4,\n",
       "  'Amitabh',\n",
       "  'Singh',\n",
       "  500000,\n",
       "  datetime.datetime(2014, 2, 20, 9, 0),\n",
       "  'Admin',\n",
       "  'amitabh.singh@gmail.com'),\n",
       " (5,\n",
       "  'Vivek',\n",
       "  'Bhati',\n",
       "  500000,\n",
       "  datetime.datetime(2014, 6, 11, 9, 0),\n",
       "  'Admin',\n",
       "  'vivek.bhati@gmail.com'),\n",
       " (6,\n",
       "  'Vipul',\n",
       "  'Diwan',\n",
       "  200000,\n",
       "  datetime.datetime(2014, 6, 11, 9, 0),\n",
       "  'Account',\n",
       "  'vipul.diwan@gmail.com'),\n",
       " (7,\n",
       "  'Satish',\n",
       "  'Kumar',\n",
       "  75000,\n",
       "  datetime.datetime(2014, 1, 20, 9, 0),\n",
       "  'Account',\n",
       "  'satish.kumar@gmail.com'),\n",
       " (8,\n",
       "  'Geetika',\n",
       "  'Chauhan',\n",
       "  90000,\n",
       "  datetime.datetime(2014, 4, 11, 9, 0),\n",
       "  'Admin',\n",
       "  'geetika.chauhan@gmail.com')]"
      ]
     },
     "execution_count": 8,
     "metadata": {},
     "output_type": "execute_result"
    }
   ],
   "source": [
    "query_1_result"
   ]
  },
  {
   "cell_type": "markdown",
   "metadata": {},
   "source": [
    "Q-16. Write an SQL query to show records from one table that another table does not have."
   ]
  },
  {
   "cell_type": "code",
   "execution_count": 16,
   "metadata": {},
   "outputs": [],
   "source": [
    "query_2 = ''' SELECT * FROM worker WHERE NOT EXISTS (SELECT worker_id FROM workerclone); '''\n",
    "query_2_result = fetch_query(connection, query_2)"
   ]
  },
  {
   "cell_type": "code",
   "execution_count": 17,
   "metadata": {},
   "outputs": [
    {
     "data": {
      "text/plain": [
       "[]"
      ]
     },
     "execution_count": 17,
     "metadata": {},
     "output_type": "execute_result"
    }
   ],
   "source": [
    "query_2_result"
   ]
  },
  {
   "cell_type": "code",
   "execution_count": null,
   "metadata": {},
   "outputs": [],
   "source": []
  }
 ],
 "metadata": {
  "kernelspec": {
   "display_name": "Python 3",
   "language": "python",
   "name": "python3"
  },
  "language_info": {
   "codemirror_mode": {
    "name": "ipython",
    "version": 3
   },
   "file_extension": ".py",
   "mimetype": "text/x-python",
   "name": "python",
   "nbconvert_exporter": "python",
   "pygments_lexer": "ipython3",
   "version": "3.8.5"
  }
 },
 "nbformat": 4,
 "nbformat_minor": 4
}
