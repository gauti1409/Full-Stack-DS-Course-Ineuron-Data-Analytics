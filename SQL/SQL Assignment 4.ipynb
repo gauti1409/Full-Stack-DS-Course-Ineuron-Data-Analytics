{
 "cells": [
  {
   "cell_type": "markdown",
   "metadata": {},
   "source": [
    "## SQL Assignment 4"
   ]
  },
  {
   "cell_type": "markdown",
   "metadata": {},
   "source": [
    "### Importing the libraries"
   ]
  },
  {
   "cell_type": "code",
   "execution_count": 2,
   "metadata": {},
   "outputs": [],
   "source": [
    "import mysql.connector\n",
    "import logging\n",
    "import csv\n",
    "logging.basicConfig(level=logging.INFO, format=\" %(asctime)s : %(levelname)s : %(message)s\")"
   ]
  },
  {
   "cell_type": "markdown",
   "metadata": {},
   "source": [
    "### Create a MySQL Connection"
   ]
  },
  {
   "cell_type": "code",
   "execution_count": 3,
   "metadata": {},
   "outputs": [
    {
     "name": "stderr",
     "output_type": "stream",
     "text": [
      " 2021-05-30 00:32:21,767 : INFO : Connection to MySQL DB successful\n"
     ]
    }
   ],
   "source": [
    "def create_connection (host_name, user_name, password, db_name, use_pure):\n",
    "    \n",
    "    connection = None\n",
    "    \n",
    "    try:\n",
    "        connection = mysql.connector.connect (\n",
    "            host = host_name,\n",
    "            user = user_name,\n",
    "            password = password,\n",
    "            database = db_name,\n",
    "            use_pure = use_pure\n",
    "        )\n",
    "        logging.info(\"Connection to MySQL DB successful\")\n",
    "        \n",
    "    except Exception as e:\n",
    "        logging.error(f\"The error {e} has occurred !!\")\n",
    "        \n",
    "    return connection\n",
    "        \n",
    "connection = create_connection(host_name = \"localhost\", user_name = \"root\", password = \"pass1234\", db_name = \"org\", use_pure = True)  "
   ]
  },
  {
   "cell_type": "markdown",
   "metadata": {},
   "source": [
    "### Making a function for executing a query"
   ]
  },
  {
   "cell_type": "code",
   "execution_count": 4,
   "metadata": {},
   "outputs": [],
   "source": [
    "def execute_query(connection, query):\n",
    "    \n",
    "    cursor = connection.cursor()\n",
    "    \n",
    "    try:\n",
    "        cursor.execute(query)\n",
    "        connection.commit()\n",
    "        logging.info(\"The query has been executed successfully !!!\")\n",
    "        \n",
    "    except Exception as e:\n",
    "        logging.error(f\"The error {e} has occurred !!\") "
   ]
  },
  {
   "cell_type": "markdown",
   "metadata": {},
   "source": [
    "### Making a function for fetching the results from a query"
   ]
  },
  {
   "cell_type": "code",
   "execution_count": 5,
   "metadata": {},
   "outputs": [],
   "source": [
    "def fetch_query(connection, query):\n",
    "    \n",
    "    cursor = connection.cursor()\n",
    "    result = None\n",
    "    \n",
    "    try:\n",
    "        cursor.execute(query)\n",
    "        result = cursor.fetchall()\n",
    "        return result\n",
    "    \n",
    "    except Exception as e:\n",
    "        logging.error(f\"The error {e} has occurred !!\")"
   ]
  },
  {
   "cell_type": "markdown",
   "metadata": {},
   "source": [
    "Q-1. Write an SQL query to print the FIRST_NAME from Worker table after replacing ‘a’ with ‘A’."
   ]
  },
  {
   "cell_type": "code",
   "execution_count": 6,
   "metadata": {},
   "outputs": [],
   "source": [
    "query_1 = ''' Select REPLACE(FIRST_NAME,'a','A') from Worker; '''\n",
    "query_1_result = fetch_query(connection, query_1)"
   ]
  },
  {
   "cell_type": "code",
   "execution_count": 7,
   "metadata": {},
   "outputs": [
    {
     "data": {
      "text/plain": [
       "[('MonikA',),\n",
       " ('NihArikA',),\n",
       " ('VishAl',),\n",
       " ('AmitAbh',),\n",
       " ('Vivek',),\n",
       " ('Vipul',),\n",
       " ('SAtish',),\n",
       " ('GeetikA',)]"
      ]
     },
     "execution_count": 7,
     "metadata": {},
     "output_type": "execute_result"
    }
   ],
   "source": [
    "query_1_result"
   ]
  },
  {
   "cell_type": "markdown",
   "metadata": {},
   "source": [
    "Q-2. Write an SQL query to print all Worker details from the Worker table order by FIRST_NAME Ascending and DEPARTMENT Descending."
   ]
  },
  {
   "cell_type": "code",
   "execution_count": 8,
   "metadata": {},
   "outputs": [],
   "source": [
    "query_2 = ''' SELECT * from worker ORDER BY first_name ASC, department DESC ; '''\n",
    "query_2_result = fetch_query(connection, query_2)"
   ]
  },
  {
   "cell_type": "code",
   "execution_count": 9,
   "metadata": {},
   "outputs": [
    {
     "data": {
      "text/plain": [
       "[(4,\n",
       "  'Amitabh',\n",
       "  'Singh',\n",
       "  500000,\n",
       "  datetime.datetime(2014, 2, 20, 9, 0),\n",
       "  'Admin'),\n",
       " (8,\n",
       "  'Geetika',\n",
       "  'Chauhan',\n",
       "  90000,\n",
       "  datetime.datetime(2014, 4, 11, 9, 0),\n",
       "  'Admin'),\n",
       " (1, 'Monika', 'Arora', 100000, datetime.datetime(2014, 2, 20, 9, 0), 'HR'),\n",
       " (2,\n",
       "  'Niharika',\n",
       "  'Verma',\n",
       "  80000,\n",
       "  datetime.datetime(2014, 6, 11, 9, 0),\n",
       "  'Admin'),\n",
       " (7,\n",
       "  'Satish',\n",
       "  'Kumar',\n",
       "  75000,\n",
       "  datetime.datetime(2014, 1, 20, 9, 0),\n",
       "  'Account'),\n",
       " (6,\n",
       "  'Vipul',\n",
       "  'Diwan',\n",
       "  200000,\n",
       "  datetime.datetime(2014, 6, 11, 9, 0),\n",
       "  'Account'),\n",
       " (3, 'Vishal', 'Singhal', 300000, datetime.datetime(2014, 2, 20, 9, 0), 'HR'),\n",
       " (5, 'Vivek', 'Bhati', 500000, datetime.datetime(2014, 6, 11, 9, 0), 'Admin')]"
      ]
     },
     "execution_count": 9,
     "metadata": {},
     "output_type": "execute_result"
    }
   ],
   "source": [
    "query_2_result"
   ]
  },
  {
   "cell_type": "markdown",
   "metadata": {},
   "source": [
    "Q-3. Write an SQL query to fetch the names of workers who earn the highest salary."
   ]
  },
  {
   "cell_type": "code",
   "execution_count": 10,
   "metadata": {},
   "outputs": [],
   "source": [
    "query_3 = ''' SELECT first_name, last_name from worker where salary in (select max(salary) from worker); '''"
   ]
  },
  {
   "cell_type": "code",
   "execution_count": 11,
   "metadata": {},
   "outputs": [
    {
     "data": {
      "text/plain": [
       "[('Amitabh', 'Singh'), ('Vivek', 'Bhati')]"
      ]
     },
     "execution_count": 11,
     "metadata": {},
     "output_type": "execute_result"
    }
   ],
   "source": [
    "query_3_result = fetch_query(connection, query_3)\n",
    "query_3_result"
   ]
  },
  {
   "cell_type": "code",
   "execution_count": null,
   "metadata": {},
   "outputs": [],
   "source": []
  }
 ],
 "metadata": {
  "kernelspec": {
   "display_name": "Python 3",
   "language": "python",
   "name": "python3"
  },
  "language_info": {
   "codemirror_mode": {
    "name": "ipython",
    "version": 3
   },
   "file_extension": ".py",
   "mimetype": "text/x-python",
   "name": "python",
   "nbconvert_exporter": "python",
   "pygments_lexer": "ipython3",
   "version": "3.8.5"
  }
 },
 "nbformat": 4,
 "nbformat_minor": 4
}
